{
  "cells": [
    {
      "cell_type": "markdown",
      "metadata": {
        "id": "view-in-github",
        "colab_type": "text"
      },
      "source": [
        "<a href=\"https://colab.research.google.com/github/LonelyJyy/Colab2/blob/main/Fadhlian_Nur_Fajri_(Praktikum_Search_Algorithm_(Uninformed_Search).ipynb\" target=\"_parent\"><img src=\"https://colab.research.google.com/assets/colab-badge.svg\" alt=\"Open In Colab\"/></a>"
      ]
    },
    {
      "cell_type": "markdown",
      "source": [
        "Pertemuan 2"
      ],
      "metadata": {
        "id": "ka5fq1Fy6Pob"
      }
    },
    {
      "cell_type": "code",
      "source": [
        "# Python3 program to print DFS traversal\n",
        "# dari sebuah graf yang diberikan\n",
        "from collections import defaultdict\n",
        "\n",
        "# Kelas ini merepresentasikan sebuah graf yang diarahkan\n",
        "# menggunakan representasi daftar kejadian\n",
        "class Graph:\n",
        "\n",
        "    # Konstruktor\n",
        "    def __init__(self):\n",
        "        # Kamus default untuk menyimpan graf\n",
        "        self.graph = defaultdict(list)\n",
        "\n",
        "    # Fungsi untuk menambahkan tepi ke graf\n",
        "    def addEdge(self, u, v):\n",
        "        self.graph[u].append(v)\n",
        "\n",
        "    # Fungsi yang digunakan oleh DFS\n",
        "    def DFSUtil(self, v, visited):\n",
        "        # Tandai node saat ini sebagai sudah dikunjungi\n",
        "        # dan cetak\n",
        "        visited.add(v)\n",
        "        print(v, end=' ')\n",
        "\n",
        "        # Panggil rekursif untuk semua titik ujung\n",
        "        # yang berdekatan dengan titik ini\n",
        "        for neighbour in self.graph[v]:\n",
        "            if neighbour not in visited:\n",
        "                self.DFSUtil(neighbour, visited)\n",
        "\n",
        "    # Fungsi untuk melakukan penelusuran DFS\n",
        "    def DFS(self, v):\n",
        "        # Buat himpunan untuk menyimpan node yang sudah dikunjungi\n",
        "        visited = set()\n",
        "        # Panggil fungsi bantu rekursif\n",
        "        # untuk mencetak penelusuran DFS\n",
        "        self.DFSUtil(v, visited)\n",
        "\n",
        "# Kode pengguna\n",
        "if __name__ == \"__main__\":\n",
        "    g = Graph()\n",
        "    g.addEdge(\"Aldous\", \"Lancelot\")\n",
        "    g.addEdge(\"Aldous\", \"Gusion\")\n",
        "    g.addEdge(\"Lancelot\", \"Gusion\")\n",
        "    g.addEdge(\"Gusion\", \"Aldous\")\n",
        "    g.addEdge(\"Gusion\", \"Layla\")\n",
        "    g.addEdge(\"Layla\", \"Layla\")\n",
        "\n",
        "    print(\"Berikut adalah Penelusuran Depth First (dimulai dari karakter Gusion)\")\n",
        "\n",
        "    # Panggilan fungsi\n",
        "    g.DFS(\"Gusion\")"
      ],
      "metadata": {
        "colab": {
          "base_uri": "https://localhost:8080/"
        },
        "id": "yMTcbH-LtNjd",
        "outputId": "7fe16d7e-7a62-42c3-8b71-a1875e3990d6"
      },
      "execution_count": 1,
      "outputs": [
        {
          "output_type": "stream",
          "name": "stdout",
          "text": [
            "Berikut adalah Penelusuran Depth First (dimulai dari karakter Gusion)\n",
            "Gusion Aldous Lancelot Layla "
          ]
        }
      ]
    },
    {
      "cell_type": "code",
      "source": [
        "class Graph:\n",
        "    def __init__(self):\n",
        "        self.graph = {}\n",
        "\n",
        "    def addEdge(self, u, v):\n",
        "        if u not in self.graph:\n",
        "            self.graph[u] = []\n",
        "        self.graph[u].append(v)\n",
        "\n",
        "    def DFSUtil(self, v, visited):\n",
        "        # Tandai node saat ini sebagai dikunjungi\n",
        "        visited.add(v)\n",
        "        # Cetak node saat ini (menggunakan nama karakter)\n",
        "        print(self.get_character_name(v))\n",
        "\n",
        "        # Rekursi untuk semua tetangga yang belum dikunjungi\n",
        "        for neighbor in self.graph.get(v, []):\n",
        "            if neighbor not in visited:\n",
        "                self.DFSUtil(neighbor, visited)\n",
        "\n",
        "    def DFS(self, v):\n",
        "        visited = set()\n",
        "        self.DFSUtil(v, visited)\n",
        "\n",
        "    def get_character_name(self, index):\n",
        "        # Peta indeks ke nama karakter\n",
        "        character_map = {\n",
        "            0: \"Aldous\",\n",
        "            1: \"Lancelot\",\n",
        "            2: \"Layla\",\n",
        "            3: \"Gusion\"\n",
        "        }\n",
        "        return character_map.get(index, \"Unknown Character\")\n",
        "\n",
        "# Kode pengguna\n",
        "if __name__ == \"__main__\":\n",
        "    g = Graph()\n",
        "    g.addEdge(0, 1)  # Aldous -> Lancelot\n",
        "    g.addEdge(0, 2)  # Aldous -> Layla\n",
        "    g.addEdge(1, 2)  # Lancelot -> Layla\n",
        "    g.addEdge(2, 0)  # Layla -> Aldous\n",
        "    g.addEdge(2, 3)  # Layla -> Gusion\n",
        "    g.addEdge(3, 3)  # Gusion -> Gusion (self-loop)\n",
        "\n",
        "    print(\"Berikut adalah Penelusuran Depth First (dimulai dari karakter Layla)\")\n",
        "\n",
        "    # Panggilan fungsi\n",
        "    g.DFS(2)  # Memulai DFS dari Layla (indeks 2)"
      ],
      "metadata": {
        "colab": {
          "base_uri": "https://localhost:8080/"
        },
        "id": "E2MXWI64vVFU",
        "outputId": "f4ed289b-c647-47fb-ab87-f72a7db23b84"
      },
      "execution_count": 2,
      "outputs": [
        {
          "output_type": "stream",
          "name": "stdout",
          "text": [
            "Berikut adalah Penelusuran Depth First (dimulai dari karakter Layla)\n",
            "Layla\n",
            "Aldous\n",
            "Lancelot\n",
            "Gusion\n"
          ]
        }
      ]
    },
    {
      "cell_type": "code",
      "source": [
        "import heapq\n",
        "\n",
        "def uniform_cost_search(goal, start):\n",
        "    global graph, cost\n",
        "    answer = [10**8] * len(goal)\n",
        "\n",
        "    # Priority queue (min-heap)\n",
        "    queue = []\n",
        "    heapq.heappush(queue, (0, start))  # (cost, node)\n",
        "\n",
        "    visited = set()\n",
        "    count = 0\n",
        "\n",
        "    while queue:\n",
        "        p_cost, p_node = heapq.heappop(queue)\n",
        "\n",
        "        if p_node in goal:\n",
        "            index = goal.index(p_node)\n",
        "            if answer[index] == 10**8:\n",
        "                count += 1\n",
        "            answer[index] = min(answer[index], p_cost)\n",
        "            if count == len(goal):\n",
        "                return answer\n",
        "\n",
        "        if p_node not in visited:\n",
        "            visited.add(p_node)\n",
        "            for neighbor in graph[p_node]:\n",
        "                edge_cost = cost.get((p_node, neighbor), float('inf'))\n",
        "                heapq.heappush(queue, (p_cost + edge_cost, neighbor))\n",
        "\n",
        "    return answer\n",
        "\n",
        "def get_character_name(index):\n",
        "    # Peta indeks ke nama karakter\n",
        "    character_map = {\n",
        "        0: \"Aldous\",\n",
        "        1: \"Lancelot\",\n",
        "        2: \"Layla\",\n",
        "        3: \"Gusion\",\n",
        "        4: \"Miya\",\n",
        "        5: \"Kagura\",\n",
        "        6: \"Granger\",\n",
        "        7: \"Fanny\"\n",
        "    }\n",
        "    return character_map.get(index, \"Unknown Character\")\n",
        "\n",
        "if __name__ == '__main__':\n",
        "    # Create graph\n",
        "    graph = [[] for _ in range(8)]\n",
        "    cost = {}\n",
        "\n",
        "    # Add edges\n",
        "    graph[0].append(1)  # Aldous -> Lancelot\n",
        "    graph[0].append(3)  # Aldous -> Gusion\n",
        "    graph[1].append(6)  # Lancelot -> Granger\n",
        "    graph[3].append(1)  # Gusion -> Lancelot\n",
        "    graph[3].append(6)  # Gusion -> Granger\n",
        "    graph[3].append(4)  # Gusion -> Miya\n",
        "    graph[2].append(1)  # Layla -> Lancelot\n",
        "    graph[4].append(2)  # Miya -> Layla\n",
        "    graph[4].append(5)  # Miya -> Kagura\n",
        "    graph[4].append(6)  # Miya -> Granger\n",
        "    graph[4].append(3)  # Miya -> Gusion\n",
        "    graph[5].append(2)  # Kagura -> Layla\n",
        "    graph[5].append(6)  # Kagura -> Granger\n",
        "    graph[6].append(4)  # Granger -> Miya\n",
        "\n",
        "    # Add costs\n",
        "    cost[(0, 1)] = 2   # Aldous -> Lancelot\n",
        "    cost[(0, 3)] = 5   # Aldous -> Gusion\n",
        "    cost[(1, 6)] = 1   # Lancelot -> Granger\n",
        "    cost[(3, 1)] = 5   # Gusion -> Lancelot\n",
        "    cost[(3, 6)] = 6   # Gusion -> Granger\n",
        "    cost[(3, 4)] = 2   # Gusion -> Miya\n",
        "    cost[(2, 1)] = 4   # Layla -> Lancelot\n",
        "    cost[(4, 2)] = 3   # Miya -> Layla\n",
        "    cost[(4, 5)] = 2   # Miya -> Kagura\n",
        "    cost[(4, 6)] = 6   # Miya -> Granger\n",
        "    cost[(4, 3)] = 2   # Miya -> Gusion\n",
        "    cost[(5, 2)] = 6   # Kagura -> Layla\n",
        "    cost[(5, 6)] = 3   # Kagura -> Granger\n",
        "    cost[(6, 4)] = 7   # Granger -> Miya\n",
        "\n",
        "    # Goal state\n",
        "    goal = [6]  # Mencari Granger\n",
        "\n",
        "    # Get the answer\n",
        "    answer = uniform_cost_search(goal, 0)\n",
        "\n",
        "    # Print result\n",
        "    if answer[0] < 10**8:\n",
        "        print(f\"Minimum cost from {get_character_name(0)} to {get_character_name(6)} is = {answer[0]}\")\n",
        "    else:\n",
        "        print(f\"No path found from {get_character_name(0)} to {get_character_name(6)}\")"
      ],
      "metadata": {
        "colab": {
          "base_uri": "https://localhost:8080/"
        },
        "id": "Tz8RQn5UwM-z",
        "outputId": "06319529-25c8-4654-e918-9718043ea0e8"
      },
      "execution_count": 5,
      "outputs": [
        {
          "output_type": "stream",
          "name": "stdout",
          "text": [
            "Minimum cost from Aldous to Granger is = 3\n"
          ]
        }
      ]
    },
    {
      "cell_type": "code",
      "source": [
        "from queue import PriorityQueue\n",
        "\n",
        "# Fungsi untuk algoritma Greedy Search\n",
        "def greedy_search(graph, start, goal):\n",
        "    frontier = PriorityQueue()  # Antrian prioritas untuk menyimpan simpul yang akan dieksplorasi\n",
        "    frontier.put((0, start))  # Menambahkan simpul awal ke dalam antrian dengan nilai prioritas 0\n",
        "    explored = set()  # Set untuk menyimpan simpul yang sudah dieksplorasi\n",
        "\n",
        "    while not frontier.empty():\n",
        "        current_node = frontier.get()[1]  # Mengambil simpul dengan nilai prioritas terendah dari antrian\n",
        "\n",
        "        if current_node == goal:\n",
        "            print(\"Simpul tujuan sudah ditemukan!\")\n",
        "            return True  # Mengembalikan True jika simpul tujuan sudah ditemukan\n",
        "\n",
        "        explored.add(current_node)  # Menandai simpul saat ini sebagai sudah dieksplorasi\n",
        "\n",
        "        for neighbor in graph[current_node]:\n",
        "            if neighbor not in explored:\n",
        "                priority = heuristic[neighbor]  # Menggunakan nilai heuristik untuk menentukan prioritas\n",
        "                frontier.put((priority, neighbor))  # Menambahkan simpul tetangga ke dalam antrian dengan nilai prioritas heuristik\n",
        "\n",
        "    print(\"Simpul tujuan tidak ditemukan!\")\n",
        "    return False  # Mengembalikan False jika simpul tujuan tidak ditemukan\n",
        "# Daftar heuristik untuk setiap simpul\n",
        "heuristic = {\n",
        "    'A': 9,\n",
        "    'B': 4,\n",
        "    'C': 2,\n",
        "    'D': 5,\n",
        "    'E': 3,\n",
        "    'S': 7,\n",
        "    'G': 0\n",
        "}\n",
        "\n",
        "# Graf (dalam bentuk daftar kejadian)\n",
        "graph = {\n",
        "    'S': {'A', 'E'},\n",
        "    'A': {'B', 'C'},\n",
        "    'B': {'D'},\n",
        "    'C': {'G'},\n",
        "    'D': {'G'},\n",
        "    'E': {'D'}\n",
        "}\n",
        "\n",
        "# Titik awal dan tujuan\n",
        "start_node = 'S'\n",
        "goal_node = 'G'\n",
        "\n",
        "# Panggil fungsi greedy search\n",
        "greedy_search(graph, start_node, goal_node)\n"
      ],
      "metadata": {
        "colab": {
          "base_uri": "https://localhost:8080/"
        },
        "id": "WWZd0Fx54MS8",
        "outputId": "3e14bd57-afc8-4d5c-876e-cc71efc44781"
      },
      "execution_count": null,
      "outputs": [
        {
          "output_type": "stream",
          "name": "stdout",
          "text": [
            "Simpul tujuan sudah ditemukan!\n"
          ]
        },
        {
          "output_type": "execute_result",
          "data": {
            "text/plain": [
              "True"
            ]
          },
          "metadata": {},
          "execution_count": 23
        }
      ]
    },
    {
      "cell_type": "code",
      "source": [
        "from queue import PriorityQueue\n",
        "\n",
        "# Fungsi untuk algoritma A* Tree Search\n",
        "def a_star_search(graph, start, goal, heuristic):\n",
        "    frontier = PriorityQueue()  # Antrian prioritas untuk menyimpan simpul yang akan dieksplorasi\n",
        "    frontier.put((0, start))  # Memasukkan simpul awal ke dalam antrian dengan nilai prioritas 0\n",
        "    explored = set()  # Set untuk menyimpan simpul yang sudah dieksplorasi\n",
        "\n",
        "    while not frontier.empty():\n",
        "        current_cost, current_node = frontier.get()  # Mengambil simpul dengan nilai prioritas terendah dari antrian\n",
        "\n",
        "        if current_node == goal:\n",
        "            print(\"Simpul tujuan sudah ditemukan!\")\n",
        "            return True  # Mengembalikan True jika simpul tujuan sudah ditemukan\n",
        "\n",
        "        explored.add(current_node)  # Menandai simpul saat ini sebagai sudah dieksplorasi\n",
        "\n",
        "        for neighbor in graph[current_node]:\n",
        "            if neighbor not in explored:\n",
        "                priority = current_cost + graph[current_node][neighbor] + heuristic[neighbor]\n",
        "                # Menambahkan nilai heuristik dan biaya langkah\n",
        "                frontier.put((priority, neighbor))  # Menambahkan simpul tetangga ke dalam antrian dengan nilai prioritas A*\n",
        "\n",
        "    print(\"Simpul tujuan tidak ditemukan!\")\n",
        "    return False  # Mengembalikan False jika simpul tujuan tidak ditemukan\n",
        "\n",
        "\n",
        "# Daftar heuristik untuk setiap simpul\n",
        "heuristic = {\n",
        "    'S': 7,\n",
        "    'A': 6,\n",
        "    'B': 2,\n",
        "    'C': 1,\n",
        "    'D': 5,\n",
        "    'E': 3,\n",
        "    'G': 0\n",
        "}\n",
        "\n",
        "# Graf (dalam bentuk daftar kejadian)\n",
        "graph = {\n",
        "    'S': {'A': 3, 'B': 2},\n",
        "    'A': {'C': 4},\n",
        "    'B': {'D': 5},\n",
        "    'C': {'G': 2},\n",
        "    'D': {'G': 6},\n",
        "    'E': {'D': 3}\n",
        "}\n",
        "\n",
        "# Titik awal dan tujuan\n",
        "start_node = 'S'\n",
        "goal_node = 'G'\n",
        "\n",
        "# Panggil fungsi A* search\n",
        "a_star_search(graph, start_node, goal_node, heuristic)\n"
      ],
      "metadata": {
        "colab": {
          "base_uri": "https://localhost:8080/"
        },
        "id": "Iwy1xCb85I1k",
        "outputId": "65f5e67e-1d5a-4774-c561-1bc5c9ff3c62"
      },
      "execution_count": null,
      "outputs": [
        {
          "output_type": "stream",
          "name": "stdout",
          "text": [
            "Simpul tujuan sudah ditemukan!\n"
          ]
        },
        {
          "output_type": "execute_result",
          "data": {
            "text/plain": [
              "True"
            ]
          },
          "metadata": {},
          "execution_count": 24
        }
      ]
    },
    {
      "cell_type": "code",
      "source": [
        "from queue import PriorityQueue\n",
        "\n",
        "# Fungsi untuk algoritma A* Graph Search\n",
        "def a_star_search(graph, start, goal, heuristic):\n",
        "    frontier = PriorityQueue()  # Antrian prioritas untuk menyimpan simpul yang akan dieksplorasi\n",
        "    frontier.put((0, start))  # Memasukkan simpul awal ke dalam antrian dengan nilai prioritas 0\n",
        "    explored = set()  # Set untuk menyimpan simpul yang sudah dieksplorasi\n",
        "\n",
        "    while not frontier.empty():\n",
        "        current_cost, current_node = frontier.get()  # Mengambil simpul dengan nilai prioritas terendah dari antrian\n",
        "\n",
        "        if current_node == goal:\n",
        "            print(\"Simpul tujuan sudah ditemukan!\")\n",
        "            return True  # Mengembalikan True jika simpul tujuan sudah ditemukan\n",
        "\n",
        "        explored.add(current_node)  # Menandai simpul saat ini sebagai sudah dieksplorasi\n",
        "\n",
        "        for neighbor in graph[current_node]:\n",
        "            if neighbor not in explored:\n",
        "                step_cost = graph[current_node][neighbor]  # Biaya langkah dari simpul saat ini ke tetangga\n",
        "                heuristic_cost = heuristic[neighbor]  # Nilai heuristik dari simpul tetangga\n",
        "                total_cost = current_cost + step_cost + heuristic_cost  # Total biaya yang diperlukan untuk mencapai tetangga\n",
        "\n",
        "                frontier.put((total_cost, neighbor))  # Menambahkan simpul tetangga ke dalam antrian dengan nilai prioritas total_cost\n",
        "\n",
        "    print(\"Simpul tujuan tidak ditemukan!\")\n",
        "    return False  # Mengembalikan False jika simpul tujuan tidak ditemukan\n",
        "\n",
        "\n",
        "# Daftar heuristik untuk setiap simpul\n",
        "heuristic = {\n",
        "    'A': 9,\n",
        "    'B': 4,\n",
        "    'C': 2,\n",
        "    'D': 5,\n",
        "    'E': 3,\n",
        "    'S': 7,\n",
        "    'G': 0\n",
        "}\n",
        "\n",
        "# Graf (dalam bentuk daftar kejadian)\n",
        "graph = {\n",
        "    'S': {'A': 3, 'E': 2},\n",
        "    'A': {'B': 3, 'C': 4},\n",
        "    'B': {'D': 5},\n",
        "    'C': {'G': 2},\n",
        "    'D': {'G': 6},\n",
        "    'E': {'D': 3}\n",
        "}\n",
        "\n",
        "# Titik awal dan tujuan\n",
        "start_node = 'S'\n",
        "goal_node = 'G'\n",
        "\n",
        "# Panggil fungsi A* search\n",
        "a_star_search(graph, start_node, goal_node, heuristic)\n"
      ],
      "metadata": {
        "colab": {
          "base_uri": "https://localhost:8080/"
        },
        "id": "RvTbWUA15htX",
        "outputId": "5c4b2cfb-fcb7-4ca7-9e9c-5f0292deb86f"
      },
      "execution_count": null,
      "outputs": [
        {
          "output_type": "stream",
          "name": "stdout",
          "text": [
            "Simpul tujuan sudah ditemukan!\n"
          ]
        },
        {
          "output_type": "execute_result",
          "data": {
            "text/plain": [
              "True"
            ]
          },
          "metadata": {},
          "execution_count": 25
        }
      ]
    }
  ],
  "metadata": {
    "colab": {
      "provenance": [],
      "include_colab_link": true
    },
    "kernelspec": {
      "display_name": "Python 3",
      "name": "python3"
    }
  },
  "nbformat": 4,
  "nbformat_minor": 0
}